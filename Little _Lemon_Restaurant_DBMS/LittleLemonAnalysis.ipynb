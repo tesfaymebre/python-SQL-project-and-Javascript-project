{
 "cells": [
  {
   "cell_type": "markdown",
   "metadata": {},
   "source": [
    "# Little Lemon analysis and sales report\n"
   ]
  },
  {
   "cell_type": "markdown",
   "metadata": {},
   "source": [
    "## Task 1:\n",
    "\n",
    "* To create a connection pool, import MySQLConnectionPool class from MySQL Connector/Python.\n",
    "\n",
    "* To find the information on the error, import the Error class from MySQL Connector/Python.\n",
    "\n",
    "* Define your database configurations as a Python dictionary object called dbconfig.\n",
    "\n",
    "* Establish a connection pool [pool_name = pool_b] with two connections. \n",
    "\n",
    "* Implement error handling using a try-except block in case the connection fails. "
   ]
  },
  {
   "cell_type": "code",
   "execution_count": 1,
   "metadata": {},
   "outputs": [
    {
     "name": "stdout",
     "output_type": "stream",
     "text": [
      "The connection pool is created with a name:  pool_b\n",
      "The pool size is: 2\n"
     ]
    }
   ],
   "source": [
    "from mysql.connector.pooling import MySQLConnectionPool\n",
    "from mysql.connector import Error\n",
    "\n",
    "dbconfig = {\n",
    "    \"database\":\"little_lemon_db\",\n",
    "    \"user\" : \"root\",\n",
    "    \"password\" : \"\"\n",
    "}\n",
    "\n",
    "try:\n",
    "    pool = MySQLConnectionPool(pool_name = \"pool_b\",\n",
    "                           pool_size = 2, #default is 5\n",
    "                           **dbconfig)\n",
    "    print(\"The connection pool is created with a name: \",pool.pool_name)\n",
    "    print(\"The pool size is:\",pool.pool_size)\n",
    "\n",
    "except Error as er:\n",
    "    print(\"Error code:\", er.errno)\n",
    "    print(\"Error message:\", er.msg)"
   ]
  },
  {
   "cell_type": "markdown",
   "metadata": {},
   "source": [
    "**Task 2:**\n",
    "\n",
    "Three guests are trying to book dinner slots simultaneously. Get the connections from `pool_b` and insert the following data in the `Bookings` table:\n",
    "\n",
    "*Guest 1:*\n",
    "- Table Number: 8\n",
    "- First Name: Anees\n",
    "- Last Name: Java\n",
    "- Booking Time: 18:00\n",
    "- EmployeeID: 6\n",
    "\n",
    "*Guest 2:*\n",
    "- Table Number: 5\n",
    "- First Name: Bald\n",
    "- Last Name: Vin\n",
    "- Booking Time: 19:00\n",
    "- EmployeeID: 6\n",
    "\n",
    "*Guest 3:*\n",
    "- Table Number: 12\n",
    "- First Name: Jay\n",
    "- Last Name: Kon\n",
    "- Booking Time: 19:30\n",
    "- EmployeeID: 6\n",
    "\n",
    "Return all the connections back to the pool.\n",
    "\n",
    "*Note: The pool size is two. However, you have three connected users. You can only return two connections. Returning a third connection will raise a `PoolError`. Use try-except to print the error message.*"
   ]
  },
  {
   "cell_type": "code",
   "execution_count": 4,
   "metadata": {},
   "outputs": [
    {
     "name": "stdout",
     "output_type": "stream",
     "text": [
      "No more connections are available.\n",
      "Adding new connection in the pool.\n",
      "A new connection is added in the pool.\n",
      "\n",
      "[Anees Java] is connected.\n",
      "\n",
      "The cursor is closed.\n",
      "MySQL connection is closed.\n",
      "[Bald Vin] is connected.\n",
      "\n",
      "The cursor is closed.\n",
      "MySQL connection is closed.\n",
      "[Jay Kon] is connected.\n",
      "\n",
      "The cursor is closed.\n",
      "MySQL connection is closed.\n"
     ]
    }
   ],
   "source": [
    "new_bookings_list = [\n",
    "    {\n",
    "    \"TableNo\" : 8,\n",
    "    \"GuestFirstName\" : \"Anees\",\n",
    "    \"GuestLastName\" : \"Java\",\n",
    "    \"BookingSlot\" : \"18:00:00\",\n",
    "    \"EmployeeID\" : 6\n",
    "    },\n",
    "    {\n",
    "    \"TableNo\" : 5,\n",
    "    \"GuestFirstName\" : \"Bald\",\n",
    "    \"GuestLastName\" : \"Vin\",\n",
    "    \"BookingSlot\" : \"19:00:00\",\n",
    "    \"EmployeeID\" : 6\n",
    "    },\n",
    "    {\n",
    "    \"TableNo\" : 12,\n",
    "    \"GuestFirstName\" : \"Jay\",\n",
    "    \"GuestLastName\" : \"Kon\",\n",
    "    \"BookingSlot\" : \"19:30:00\",\n",
    "    \"EmployeeID\" : 6\n",
    "    }\n",
    "]\n",
    "\n",
    "# To add connection to the pool, the connection must be of MySQLConnection instance \n",
    "# Also possible to create via connect module and need the import below\n",
    "import mysql.connector as connector\n",
    "\n",
    "for i,new_booking in enumerate(new_bookings_list):\n",
    "    insert_query = \"\"\"\n",
    "            INSERT INTO Bookings (TableNo, GuestFirstName, \n",
    "            GuestLastName, BookingSlot, EmployeeID)\n",
    "            VALUES\n",
    "            ({}, '{}', '{}', '{}', {});\n",
    "        \"\"\".format(new_booking[\"TableNo\"], new_booking[\"GuestFirstName\"], new_booking[\"GuestLastName\"],\n",
    "                   new_booking[\"BookingSlot\"], new_booking[\"EmployeeID\"])\n",
    "    \n",
    "    try:\n",
    "        guest_connected = pool.get_connection()\n",
    "        print(\"[{} {}] is connected.\\n\".format(new_booking[\"GuestFirstName\"], new_booking[\"GuestLastName\"]))\n",
    "        \n",
    "        cursor = guest_connected.cursor()\n",
    "        \n",
    "        cursor.execute(insert_query)\n",
    "        guest_connected.commit()\n",
    "\n",
    "    except:\n",
    "        print(\"No more connections are available.\")\n",
    "        print(\"Adding new connection in the pool.\")\n",
    "        \n",
    "        # Create a connection\n",
    "        connection=connector.connect(user=\"root\",password=\"\")\n",
    "        # Add the connection into the pool\n",
    "        pool.add_connection(cnx=connection)\n",
    "        print(\"A new connection is added in the pool.\\n\")\n",
    "    \n",
    "        guest_connected = pool.get_connection()\n",
    "        print(\"[{} {}] is connected.\\n\".format(new_booking[\"GuestFirstName\"], new_booking[\"GuestLastName\"]))\n",
    "\n",
    "        cursor = guest_connected.cursor()\n",
    "        \n",
    "        cursor.execute(insert_query)\n",
    "        guest_connected.commit()\n",
    "\n",
    "    # Let's close the cursor and the connection\n",
    "    if guest_connected.is_connected():\n",
    "        cursor.close()\n",
    "        print(\"The cursor is closed.\")\n",
    "        guest_connected.close()\n",
    "        print(\"MySQL connection is closed.\")\n",
    "    else:\n",
    "        print(\"Connection is already closed\")\n"
   ]
  },
  {
   "cell_type": "markdown",
   "metadata": {},
   "source": [
    "**Task 3:**\n",
    "- The name and EmployeeID of the Little Lemon manager.\n",
    "- The name and role of the employee who receives the highest salary.\n",
    "- The number of guests booked between 18:00 and 20:00.\n",
    "- The full name and BookingID of all guests waiting to be seated with the receptionist in sorted order with respect to their BookingSlot."
   ]
  },
  {
   "cell_type": "code",
   "execution_count": 5,
   "metadata": {},
   "outputs": [],
   "source": [
    "#lets get connection\n",
    "\n",
    "connection1 = pool.get_connection()\n",
    "cursor = connection1.cursor()"
   ]
  },
  {
   "cell_type": "code",
   "execution_count": 6,
   "metadata": {},
   "outputs": [
    {
     "name": "stdout",
     "output_type": "stream",
     "text": [
      "['Name', 'EmployeeID']\n",
      "('Mario Gollini', 1)\n"
     ]
    }
   ],
   "source": [
    "# The name and EmployeeID of the Little Lemon manager.\n",
    "\n",
    "select_query = \"\"\"\n",
    "SELECT Name,EmployeeID FROM Employees WHERE Role = 'Manager';\n",
    "\"\"\"\n",
    "\n",
    "cursor.execute(select_query)\n",
    "column_names = [col_name for col_name in cursor.column_names]\n",
    "\n",
    "print(column_names)\n",
    "\n",
    "results = cursor.fetchall()\n",
    "\n",
    "for result in results:\n",
    "    print(result)\n"
   ]
  },
  {
   "cell_type": "code",
   "execution_count": 8,
   "metadata": {},
   "outputs": [
    {
     "name": "stdout",
     "output_type": "stream",
     "text": [
      "['Name', 'Role']\n",
      "Mario Gollini\n",
      "Manager\n"
     ]
    }
   ],
   "source": [
    "#The name and role of the employee who receives the highest salary.\n",
    "\n",
    "select_query = \"\"\"\n",
    "SELECT Name,Role FROM Employees ORDER BY Annual_Salary DESC LIMIT 1;\n",
    "\"\"\"\n",
    "cursor.execute(select_query)\n",
    "column_names = [col_name for col_name in cursor.column_names]\n",
    "\n",
    "print(column_names)\n",
    "\n",
    "results = cursor.fetchone()\n",
    "\n",
    "for result in results:\n",
    "    print(result)"
   ]
  },
  {
   "cell_type": "code",
   "execution_count": 9,
   "metadata": {},
   "outputs": [
    {
     "name": "stdout",
     "output_type": "stream",
     "text": [
      "['nGuest']\n",
      "(7,)\n"
     ]
    }
   ],
   "source": [
    "#The number of guests booked between 18:00 and 20:00.\n",
    "select_query = \"\"\"\n",
    "SELECT COUNT(BookingID) AS nGuest FROM Bookings WHERE BookingSlot BETWEEN '18:00:00' AND '20:00:00';\n",
    "\"\"\"\n",
    "cursor.execute(select_query)\n",
    "column_names = [col_name for col_name in cursor.column_names]\n",
    "\n",
    "print(column_names)\n",
    "\n",
    "results = cursor.fetchall()\n",
    "\n",
    "for result in results:\n",
    "    print(result)\n"
   ]
  },
  {
   "cell_type": "code",
   "execution_count": 10,
   "metadata": {},
   "outputs": [
    {
     "name": "stdout",
     "output_type": "stream",
     "text": [
      "The following guests are waiting to be seated:\n",
      "['GuestFullName', 'BookingID']\n",
      "('Jay Kon', 12)\n",
      "('Bald Vin', 11)\n",
      "('Anees Java', 10)\n"
     ]
    }
   ],
   "source": [
    "#The full name and BookingID of all guests waiting to be seated with the receptionist in sorted order with respect to their BookingSlot.\n",
    "\n",
    "select_query = \"\"\"\n",
    "SELECT CONCAT(B.GuestFirstName, \" \", B.GuestLastName) AS GuestFullName, \n",
    "B.BookingID\n",
    "FROM Bookings AS B\n",
    "LEFT JOIN Employees as E\n",
    "ON E.EmployeeID = B.EmployeeID\n",
    "WHERE E.Role = \"Receptionist\"\n",
    "ORDER BY B.BookingSlot DESC;\n",
    "\"\"\"\n",
    "\n",
    "print(\"The following guests are waiting to be seated:\")\n",
    "\n",
    "cursor.execute(select_query)\n",
    "column_names = [col_name for col_name in cursor.column_names]\n",
    "\n",
    "print(column_names)\n",
    "\n",
    "results = cursor.fetchall()\n",
    "\n",
    "for result in results:\n",
    "    print(result)"
   ]
  },
  {
   "cell_type": "markdown",
   "metadata": {},
   "source": [
    "## Task 4:\n",
    "Create a stored procedure named BasicSalesReport that returns the following statistics: \n",
    "\n",
    "- Total sales\n",
    "\n",
    "- Average sale\n",
    "\n",
    "- Minimum bill paid\n",
    "\n",
    "- Maximum bill paid"
   ]
  },
  {
   "cell_type": "code",
   "execution_count": 11,
   "metadata": {},
   "outputs": [
    {
     "name": "stdout",
     "output_type": "stream",
     "text": [
      "Stored procedure named BasicSalesReport created.\n"
     ]
    }
   ],
   "source": [
    "cursor.execute(\"DROP PROCEDURE IF EXISTS BasicSalesReport;\")\n",
    "\n",
    "stored_procedure_query = \"\"\"\n",
    "CREATE PROCEDURE BasicSalesReport()\n",
    "BEGIN\n",
    "SELECT SUM(BillAmount) AS Total_sales,\n",
    "AVG(BillAmount) AS Average_sale, \n",
    "MIN(BillAmount) AS Minimum_bill_paid,\n",
    "MAX(BillAmount) AS Maximum_bill_paid\n",
    "FROM Orders;\n",
    "END\n",
    "\"\"\"\n",
    "\n",
    "cursor.execute(stored_procedure_query)\n",
    "print(\"Stored procedure named BasicSalesReport created.\")"
   ]
  },
  {
   "cell_type": "code",
   "execution_count": 28,
   "metadata": {},
   "outputs": [
    {
     "name": "stdout",
     "output_type": "stream",
     "text": [
      "\t Total_sales : 243\n",
      "\t Average_sale : 48.6000\n",
      "\t Minimum_bill_paid : 37\n",
      "\t Maximum_bill_paid : 86\n"
     ]
    }
   ],
   "source": [
    "# Fetch the results and column names as you did\n",
    "cursor.callproc(\"BasicSalesReport\")\n",
    "results = next(cursor.stored_results())\n",
    "dataset = results.fetchall()\n",
    "\n",
    "# Retrieve column names\n",
    "columns = [column[0] for column in results.description]\n",
    "\n",
    "# Format and print column names\n",
    "\n",
    "for data in dataset:\n",
    "    print('\\t', columns[0], ':', data[0])\n",
    "    print('\\t', columns[1], ':', data[1])\n",
    "    print('\\t', columns[2], ':', data[2])\n",
    "    print('\\t', columns[3], ':', data[3])\n"
   ]
  },
  {
   "cell_type": "code",
   "execution_count": 29,
   "metadata": {},
   "outputs": [
    {
     "name": "stdout",
     "output_type": "stream",
     "text": [
      "The cursor is closed.\n",
      "MySQL connection is closed.\n"
     ]
    }
   ],
   "source": [
    "# Let's close the cursor and the connection\n",
    "if connection1.is_connected():\n",
    "    cursor.close()\n",
    "    print(\"The cursor is closed.\")\n",
    "    connection1.close()\n",
    "    print(\"MySQL connection is closed.\")\n",
    "else:\n",
    "    print(\"Connection is already closed\")"
   ]
  },
  {
   "cell_type": "markdown",
   "metadata": {},
   "source": [
    "## Task 5:\n",
    "Little Lemon needs to display the next three upcoming bookings from the Bookings table on the kitchen screen to notify their chefs which orders are due next. To complete this task, carry out the following steps:\n",
    "\n",
    "- Get a connection from the pool.\n",
    "\n",
    "- Create a buffered cursor.\n",
    "\n",
    "- Combine the data from the Bookings and the Employee tables. Sort the retrieved records in ascending order. Then display the information of the first three guests. \n",
    "\n",
    "- Returned the connection back to the pool.\n",
    "\n",
    "\n",
    "The output should be as follows:\n",
    "\n",
    "[BookingSlot]\n",
    "\n",
    "[Guest_name]\n",
    "\n",
    "[Assigned to: Employee Name [Employee Role]]"
   ]
  },
  {
   "cell_type": "code",
   "execution_count": 33,
   "metadata": {},
   "outputs": [],
   "source": [
    "#lets get connection\n",
    "\n",
    "connection1 = pool.get_connection()\n",
    "cursor = connection1.cursor(buffered=True)\n"
   ]
  },
  {
   "cell_type": "code",
   "execution_count": 34,
   "metadata": {},
   "outputs": [
    {
     "name": "stdout",
     "output_type": "stream",
     "text": [
      "\n",
      "BookingSlot : 15:00:00\n",
      "\tGuest_name : Vanessa McCarthy\n",
      "\tAssigned to : Giorgos Dioudis [Head Chef]\n",
      "\n",
      "BookingSlot : 17:30:00\n",
      "\tGuest_name : Marcos Romero\n",
      "\tAssigned to : Fatma Kaya [Assistant Chef]\n",
      "\n",
      "BookingSlot : 18:00:00\n",
      "\tGuest_name : Anees Java\n",
      "\tAssigned to : John Millar [Receptionist]\n"
     ]
    }
   ],
   "source": [
    "upcoming_bookings = \"\"\"\n",
    "SELECT B.BookingSlot,\n",
    "CONCAT(B.GuestFirstName,\" \", B.GuestLastName) AS Guest_Name,\n",
    "E.Name AS Emp_Name,\n",
    "E.Role AS Emp_Role\n",
    "FROM Bookings AS B\n",
    "INNER JOIN Employees AS E\n",
    "ON B.EmployeeID = E.EmployeeID\n",
    "ORDER BY B.BookingSlot;\n",
    "\"\"\"\n",
    "\n",
    "cursor.execute(upcoming_bookings)\n",
    "results = cursor.fetchmany(size=3)\n",
    "\n",
    "for result in results:\n",
    "    print(\"\\nBookingSlot :\", result[0])\n",
    "    print(\"\\tGuest_name :\", result[1])\n",
    "    print(\"\\tAssigned to :\", result[2],\"[{}]\".format(result[3]))"
   ]
  },
  {
   "cell_type": "code",
   "execution_count": 35,
   "metadata": {},
   "outputs": [
    {
     "name": "stdout",
     "output_type": "stream",
     "text": [
      "The cursor is closed.\n",
      "MySQL connection is closed.\n"
     ]
    }
   ],
   "source": [
    "# Let's close the cursor and the connection\n",
    "if connection1.is_connected():\n",
    "    cursor.close()\n",
    "    print(\"The cursor is closed.\")\n",
    "    connection1.close()\n",
    "    print(\"MySQL connection is closed.\")\n",
    "else:\n",
    "    print(\"Connection is already closed\")"
   ]
  },
  {
   "cell_type": "code",
   "execution_count": null,
   "metadata": {},
   "outputs": [],
   "source": []
  }
 ],
 "metadata": {
  "kernelspec": {
   "display_name": "Python 3",
   "language": "python",
   "name": "python3"
  },
  "language_info": {
   "codemirror_mode": {
    "name": "ipython",
    "version": 3
   },
   "file_extension": ".py",
   "mimetype": "text/x-python",
   "name": "python",
   "nbconvert_exporter": "python",
   "pygments_lexer": "ipython3",
   "version": "3.10.12"
  }
 },
 "nbformat": 4,
 "nbformat_minor": 4
}

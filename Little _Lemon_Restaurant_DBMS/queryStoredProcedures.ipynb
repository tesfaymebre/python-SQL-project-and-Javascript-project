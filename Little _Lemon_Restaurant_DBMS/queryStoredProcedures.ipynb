{
 "cells": [
  {
   "cell_type": "markdown",
   "metadata": {},
   "source": [
    "The implemented code includes the following functionalities using stored procedures in MySQL:\n",
    "\n",
    "Establishing a Connection:\n",
    "\n",
    "The code imports MySQLConnectionPool and creates a pool with two connections. This allows for efficient management and reuse of database connections.\n",
    "PeakHours Stored Procedure:\n",
    "\n",
    "A stored procedure named \"PeakHours\" is created and called. This procedure identifies the busiest hour for the restaurant based on the number of bookings.\n",
    "The stored procedure is designed to consistently execute the SQL queries in the same manner each time it is called.\n",
    "By utilizing this stored procedure, you can easily determine the peak hours of the restaurant.\n",
    "GuestStatus Stored Procedure:\n",
    "\n",
    "Another stored procedure named \"GuestStatus\" is created and called. This procedure outputs the status of each guest's order based on the employee assigned to the order.\n",
    "The stored procedure ensures consistent execution of the SQL queries, providing accurate and reliable information about the guest's order status."
   ]
  },
  {
   "cell_type": "markdown",
   "metadata": {},
   "source": [
    "## Task 1: Establish a connection \n",
    "\n",
    "\n",
    "  "
   ]
  },
  {
   "cell_type": "code",
   "execution_count": 1,
   "metadata": {},
   "outputs": [
    {
     "name": "stdout",
     "output_type": "stream",
     "text": [
      "The connection pool is created with a name:  pool_a\n",
      "The pool size is: 2\n"
     ]
    }
   ],
   "source": [
    "from mysql.connector.pooling import MySQLConnectionPool\n",
    "from mysql.connector import Error\n",
    "\n",
    "dbconfig = {\n",
    "    \"database\":\"little_lemon_db\",\n",
    "    \"user\" : \"root\",\n",
    "    \"password\" : \"\"\n",
    "}\n",
    "\n",
    "try:\n",
    "    pool = MySQLConnectionPool(pool_name = \"pool_a\",\n",
    "                           pool_size = 2, #default is 5\n",
    "                           **dbconfig)\n",
    "    print(\"The connection pool is created with a name: \",pool.pool_name)\n",
    "    print(\"The pool size is:\",pool.pool_size)\n",
    "\n",
    "except Error as er:\n",
    "    print(\"Error code:\", er.errno)\n",
    "    print(\"Error message:\", er.msg)"
   ]
  },
  {
   "cell_type": "code",
   "execution_count": 2,
   "metadata": {},
   "outputs": [
    {
     "name": "stdout",
     "output_type": "stream",
     "text": [
      "cursor object created\n"
     ]
    }
   ],
   "source": [
    "connection1 = pool.get_connection()\n",
    "cursor = connection1.cursor()\n",
    "\n",
    "print(\"cursor object created\")"
   ]
  },
  {
   "cell_type": "markdown",
   "metadata": {},
   "source": [
    "## Task 2: Implement a stored procedure called PeakHours\n",
    "Write a SQL CREATE PROCEDURE query for PeakHours\n",
    "\n",
    "* Use HOUR to extract the hour part from the BookingSlot.\n",
    "\n",
    "* Use COUNT on hour to count the number of bookings.\n",
    "\n",
    "* Use GROUP BY on booking hour.\n",
    "\n",
    "* Use ORDER BY on the number of bookings in descending order.\n",
    "\n"
   ]
  },
  {
   "cell_type": "code",
   "execution_count": 11,
   "metadata": {},
   "outputs": [
    {
     "name": "stdout",
     "output_type": "stream",
     "text": [
      "Stored procedure named PeakHours created.\n"
     ]
    }
   ],
   "source": [
    "cursor.execute(\"DROP PROCEDURE IF EXISTS PeakHours;\")\n",
    "\n",
    "stored_procedure_query = \"\"\"\n",
    "CREATE PROCEDURE PeakHours()\n",
    "BEGIN\n",
    "SELECT HOUR(BookingSlot) AS hour, COUNT(BookingID) AS nBookings\n",
    "FROM Bookings\n",
    "GROUP BY hour\n",
    "ORDER BY nBookings DESC;\n",
    "END\n",
    "\"\"\"\n",
    "\n",
    "cursor.execute(stored_procedure_query)\n",
    "print(\"Stored procedure named PeakHours created.\")"
   ]
  },
  {
   "cell_type": "code",
   "execution_count": 12,
   "metadata": {},
   "outputs": [
    {
     "name": "stdout",
     "output_type": "stream",
     "text": [
      "['hour', 'nBookings']\n",
      "(19, 2)\n",
      "(15, 1)\n",
      "(17, 1)\n",
      "(18, 1)\n",
      "(20, 1)\n"
     ]
    }
   ],
   "source": [
    "cursor.callproc(\"PeakHours\")\n",
    "\n",
    "results = next(cursor.stored_results())\n",
    "dataset = results.fetchall()\n",
    "\n",
    "# Retrieve column names using list comprehension in a 'for' loop \n",
    "for column_id in cursor.stored_results():\n",
    "    columns = [ column[0] for column in column_id.description ]\n",
    "\n",
    "# Print column names\n",
    "print(columns)\n",
    "\n",
    "# Print data \n",
    "for data in dataset:\n",
    "    print(data)"
   ]
  },
  {
   "cell_type": "markdown",
   "metadata": {},
   "source": [
    "## Task 3: Implement a stored procedure GuestStatus\n",
    "Step one: Write a SQL CREATE PROCEDURE query for GuestStatus.\n",
    "\n",
    "Step two: Combine the guest’s first and last name from the booking column using CONCAT. \n",
    "\n",
    "Step three: Use CASE to implement the following statuses for each guest’s order:\n",
    "\n",
    "* If the Role in the Employee table is Manager or Assistant Manager then the guest’s order status is Ready to pay\n",
    "\n",
    "* If the Role in the Employee table is Head Chef then the status is Ready to serve\n",
    "\n",
    "* If the Role in the Employee table is Assistant Chef then the status is Preparing Order\n",
    "\n",
    "* If the Role in the Employee table is Head Waiter then the status is Order served\n",
    "\n",
    "Step four: LEFT JOIN Bookings table with Employees ON EmployeeID\n",
    "\n",
    "Step five: Run the stored procedure query by invoking execute module on the cursor.\n",
    "\n",
    "Step six: Invoke callproc to call the stored procedure.\n",
    "\n",
    "Step seven: Fetch the results in a variable called dataset.\n",
    "\n",
    "Step eight: Extract the names of the columns.\n",
    "\n",
    "Step nine: Print the names of the columns.\n",
    "\n",
    "Step ten: Print the sorted data using for loop.\n",
    "\n",
    "Step eleven: Close the connection to return it back to the pool."
   ]
  },
  {
   "cell_type": "code",
   "execution_count": 13,
   "metadata": {},
   "outputs": [],
   "source": [
    "cursor.execute(\"DROP PROCEDURE IF EXISTS GuestStatus;\")\n",
    "\n",
    "stored_procedure_query = \"\"\"\n",
    "CREATE PROCEDURE GuestStatus()\n",
    "BEGIN\n",
    "SELECT CONCAT(B.GuestFirstName,\" \",B.GuestLastName) AS FullName, \n",
    "CASE\n",
    "WHEN E.Role IN (\"Manager\", \"Assistant Manager\") THEN \"Ready to pay\"\n",
    "WHEN E.Role = \"Head Chef\" THEN \"Ready to serve\"\n",
    "WHEN E.Role = \"Assistant Chef\" THEN \"Preparing Order\"\n",
    "WHEN E.Role = \"Head Waiter\" THEN \"Order served\" \n",
    "ELSE \"No status\"\n",
    "END AS Status\n",
    "FROM Bookings AS B\n",
    "LEFT JOIN Employees AS E\n",
    "ON B.EmployeeID = E.EmployeeID;\n",
    "END\n",
    "\"\"\"\n",
    "\n",
    "cursor.execute(stored_procedure_query)\n",
    "print(\"stored procedure name GuestStatus created\")"
   ]
  },
  {
   "cell_type": "code",
   "execution_count": 14,
   "metadata": {},
   "outputs": [
    {
     "name": "stdout",
     "output_type": "stream",
     "text": [
      "['FullName', 'Status']\n",
      "('Anna Iversen', 'Ready to pay')\n",
      "('Joakim Iversen', 'Ready to pay')\n",
      "('Vanessa McCarthy', 'Ready to serve')\n",
      "('Marcos Romero', 'Preparing Order')\n",
      "('Hiroki Yamane', 'Ready to pay')\n",
      "('Diana Pinto', 'Order served')\n"
     ]
    }
   ],
   "source": [
    "cursor.callproc(\"GuestStatus\")\n",
    "\n",
    "results = next(cursor.stored_results())\n",
    "dataset = results.fetchall()\n",
    "\n",
    "# Retrieve column names using list comprehension in a 'for' loop \n",
    "for column_id in cursor.stored_results():\n",
    "    columns = [ column[0] for column in column_id.description ]\n",
    "\n",
    "# Print column names\n",
    "print(columns)\n",
    "\n",
    "# Print data \n",
    "for data in dataset:\n",
    "    print(data)"
   ]
  },
  {
   "cell_type": "code",
   "execution_count": 15,
   "metadata": {},
   "outputs": [
    {
     "name": "stdout",
     "output_type": "stream",
     "text": [
      "The cursor is closed.\n",
      "MySQL connection is closed.\n"
     ]
    }
   ],
   "source": [
    "# Let's close the cursor and the connection\n",
    "if connection1.is_connected():\n",
    "    cursor.close()\n",
    "    print(\"The cursor is closed.\")\n",
    "    connection1.close()\n",
    "    print(\"MySQL connection is closed.\")\n",
    "else:\n",
    "    print(\"Connection is already closed\")"
   ]
  },
  {
   "cell_type": "code",
   "execution_count": null,
   "metadata": {},
   "outputs": [],
   "source": []
  }
 ],
 "metadata": {
  "kernelspec": {
   "display_name": "Python 3",
   "language": "python",
   "name": "python3"
  },
  "language_info": {
   "codemirror_mode": {
    "name": "ipython",
    "version": 3
   },
   "file_extension": ".py",
   "mimetype": "text/x-python",
   "name": "python",
   "nbconvert_exporter": "python",
   "pygments_lexer": "ipython3",
   "version": "3.10.12"
  }
 },
 "nbformat": 4,
 "nbformat_minor": 4
}
